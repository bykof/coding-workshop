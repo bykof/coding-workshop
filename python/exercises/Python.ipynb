{
 "cells": [
  {
   "cell_type": "markdown",
   "metadata": {},
   "source": [
    "Schreiben Sie eine Funktion, die alle Zahlen eines Arrays summiert.\n",
    "\n",
    "Beispiel:\n",
    "```\n",
    "a = [1, 2, 3, 4, 5]\n",
    "15\n",
    "```"
   ]
  },
  {
   "cell_type": "code",
   "execution_count": null,
   "metadata": {},
   "outputs": [],
   "source": [
    "a = [1, 2, 3, 4, 5]\n"
   ]
  },
  {
   "cell_type": "markdown",
   "metadata": {},
   "source": [
    "---"
   ]
  },
  {
   "cell_type": "markdown",
   "metadata": {},
   "source": [
    "Schreiben Sie eine Funktion, mit der sich ein eingegebener String inversen lässt.\n",
    "Beispiel: \n",
    "```\n",
    "Eingabe: abcde\n",
    "Ausgabe: edcba\n",
    "```"
   ]
  },
  {
   "cell_type": "code",
   "execution_count": null,
   "metadata": {},
   "outputs": [],
   "source": []
  },
  {
   "cell_type": "markdown",
   "metadata": {},
   "source": [
    "---"
   ]
  },
  {
   "cell_type": "markdown",
   "metadata": {},
   "source": [
    "Schreiben Sie eine Funktion, die einen Input abfragt und sagt, ob die eingebene Zahl eine Primzahl ist. \n",
    "\n",
    "Beispiel: \n",
    "    \n",
    "```\n",
    "Zahl: 234\n",
    "Zahl ist durch 2 teilbar\n",
    "```\n",
    "\n",
    "Funktionsweise: \n",
    "    \n",
    "Eine Zahl n ist dann eine Primzahl, wenn alle Zahlen (2 bis n-1) n __nicht__ ganzzahlig teilen.\n",
    "\n",
    "Beispielrechnung: \n",
    "\n",
    "```\n",
    "n = 7\n",
    "7/2 = 3,5\n",
    "7/3 = 2,3\n",
    "7/4 = 1,75\n",
    "7/5 = 1,4\n",
    "7/6 = 1,1671\n",
    "-> 7 ist eine Primzahl!\n",
    "\n",
    "n = 6\n",
    "6/2 = 3 -> 6 ist durch 2 teilbar und somit keine Primzahl!\n",
    "```\n",
    "\n"
   ]
  },
  {
   "cell_type": "code",
   "execution_count": null,
   "metadata": {},
   "outputs": [],
   "source": []
  }
 ],
 "metadata": {
  "kernelspec": {
   "display_name": "Python 3",
   "language": "python",
   "name": "python3"
  },
  "language_info": {
   "codemirror_mode": {
    "name": "ipython",
    "version": 3
   },
   "file_extension": ".py",
   "mimetype": "text/x-python",
   "name": "python",
   "nbconvert_exporter": "python",
   "pygments_lexer": "ipython3",
   "version": "3.7.4"
  }
 },
 "nbformat": 4,
 "nbformat_minor": 2
}
