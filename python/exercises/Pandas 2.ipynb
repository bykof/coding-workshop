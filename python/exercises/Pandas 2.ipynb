{
 "cells": [
  {
   "cell_type": "markdown",
   "metadata": {},
   "source": [
    "1. Lesen Sie die Datei datas/sales.csv ein"
   ]
  },
  {
   "cell_type": "code",
   "execution_count": null,
   "metadata": {},
   "outputs": [],
   "source": []
  },
  {
   "cell_type": "markdown",
   "metadata": {},
   "source": [
    "2. Setzen Sie den Index des DataFrames auf `Order ID`"
   ]
  },
  {
   "cell_type": "code",
   "execution_count": null,
   "metadata": {},
   "outputs": [],
   "source": []
  },
  {
   "cell_type": "markdown",
   "metadata": {},
   "source": [
    "3. Finden Sie heraus, ob der Gewinn im Online oder Offline Sales Channel am größten ist."
   ]
  },
  {
   "cell_type": "code",
   "execution_count": null,
   "metadata": {},
   "outputs": [],
   "source": []
  },
  {
   "cell_type": "markdown",
   "metadata": {},
   "source": [
    "4. Finden Sie für jedes `Item Type` den Durchschnitt heraus \n",
    "\n",
    "Tipp: Verwenden Sie `groupby` [Link](https://pandas.pydata.org/pandas-docs/stable/reference/groupby.html?highlight=dataframegroupby)"
   ]
  },
  {
   "cell_type": "code",
   "execution_count": null,
   "metadata": {},
   "outputs": [],
   "source": []
  },
  {
   "cell_type": "markdown",
   "metadata": {},
   "source": [
    "5. Finden Sie von jeder Gruppe (gruppiert nach `Item Type`) die maximalen Werte"
   ]
  },
  {
   "cell_type": "code",
   "execution_count": null,
   "metadata": {},
   "outputs": [],
   "source": []
  },
  {
   "cell_type": "markdown",
   "metadata": {},
   "source": [
    "6. Mit welchem `Item Type` wird am meisten Gewinn gemacht?"
   ]
  },
  {
   "cell_type": "code",
   "execution_count": null,
   "metadata": {},
   "outputs": [],
   "source": []
  },
  {
   "cell_type": "markdown",
   "metadata": {},
   "source": [
    "7. Lassen Sie nun für jede Gruppe die Werte summieren"
   ]
  },
  {
   "cell_type": "code",
   "execution_count": null,
   "metadata": {},
   "outputs": [],
   "source": []
  },
  {
   "cell_type": "markdown",
   "metadata": {},
   "source": [
    "8. Was ist nun die Gruppe, die am meisten Gewinn macht?"
   ]
  },
  {
   "cell_type": "code",
   "execution_count": null,
   "metadata": {},
   "outputs": [],
   "source": []
  },
  {
   "cell_type": "markdown",
   "metadata": {},
   "source": [
    "9. Berechnen Sie ein neues Dataframe, indem Sie alle summierten Werte des Dataframes durch die maximalen summierten Werte teilen.\n",
    "\n",
    "Beispiel: \n",
    "```\n",
    "df = pandas.DataFrame([[1, 2, 3], [4, 5, 6]])\n",
    "df2 = df.sum() / df.sum().max() ODER df.sum().div(df.sum().max())\n",
    "\n",
    "df2\n",
    "\n",
    "0    0.555556\n",
    "1    0.777778\n",
    "2    1.000000\n",
    "```"
   ]
  },
  {
   "cell_type": "code",
   "execution_count": null,
   "metadata": {},
   "outputs": [],
   "source": []
  }
 ],
 "metadata": {
  "kernelspec": {
   "display_name": "Python 3",
   "language": "python",
   "name": "python3"
  },
  "language_info": {
   "codemirror_mode": {
    "name": "ipython",
    "version": 3
   },
   "file_extension": ".py",
   "mimetype": "text/x-python",
   "name": "python",
   "nbconvert_exporter": "python",
   "pygments_lexer": "ipython3",
   "version": "3.7.4"
  }
 },
 "nbformat": 4,
 "nbformat_minor": 2
}
